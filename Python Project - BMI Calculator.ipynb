{
 "cells": [
  {
   "cell_type": "markdown",
   "id": "6f76ed14-a8af-436f-94ff-68e8d7f6000d",
   "metadata": {},
   "source": [
    "BMI Calculator"
   ]
  },
  {
   "cell_type": "markdown",
   "id": "1b4e9776-83cd-460e-9a52-2934c6e77114",
   "metadata": {},
   "source": [
    "https://www.cdc.gov/bmi/adult-calculator/?CDC_AAref_Val=https://www.cdc.gov/healthyweight/assessing/bmi/adult_bmi/english_bmi_calculator/bmi_calculator.html"
   ]
  },
  {
   "cell_type": "code",
   "execution_count": 3,
   "id": "26936f1a-b55d-494b-a59f-0a8f09040189",
   "metadata": {},
   "outputs": [],
   "source": [
    "# BMI = (weight in pounds x 703) / (height in inches x height in inches)"
   ]
  },
  {
   "cell_type": "code",
   "execution_count": 41,
   "id": "88e080ee-6ea2-420b-8172-26e3f50d9261",
   "metadata": {},
   "outputs": [
    {
     "name": "stdin",
     "output_type": "stream",
     "text": [
      "Enter your name:  Noe\n",
      "Enter your weight in pounds:  132\n",
      "Enter your height in inches:  60\n"
     ]
    },
    {
     "name": "stdout",
     "output_type": "stream",
     "text": [
      "25.776666666666667\n",
      "Noe, You are overweight. You need to exercise more and stop eating so much ice cream.\n"
     ]
    }
   ],
   "source": [
    "name = input('Enter your name: ')\n",
    "weight = int(input('Enter your weight in pounds: '))\n",
    "height = int(input('Enter your height in inches: '))\n",
    "BMI = (weight * 703) / (height * height)\n",
    "print(BMI)\n",
    "\n",
    "if BMI > 0:\n",
    "    if(BMI < 18.5):\n",
    "        print(name + ', You are underweight.')\n",
    "    elif(BMI <= 24.9):\n",
    "        print(name + ', You are normal weight.')\n",
    "    elif(BMI < 29.9):\n",
    "        print(name + ', You are overweight. You need to exercise more and stop eating so much ice cream.')\n",
    "    elif(BMI < 34.9):\n",
    "        print(name + ', You are obese.')\n",
    "    elif(BMI < 34.9):\n",
    "        print(name + ', You are severely obese.')\n",
    "    else:\n",
    "        print(name + ', You are morbidly obese.')\n",
    "else:\n",
    "    print('Enter valid input.')"
   ]
  },
  {
   "cell_type": "code",
   "execution_count": null,
   "id": "6890fd93-745b-470c-969c-6feeb84c25f2",
   "metadata": {},
   "outputs": [],
   "source": []
  }
 ],
 "metadata": {
  "kernelspec": {
   "display_name": "Python [conda env:base] *",
   "language": "python",
   "name": "conda-base-py"
  },
  "language_info": {
   "codemirror_mode": {
    "name": "ipython",
    "version": 3
   },
   "file_extension": ".py",
   "mimetype": "text/x-python",
   "name": "python",
   "nbconvert_exporter": "python",
   "pygments_lexer": "ipython3",
   "version": "3.12.7"
  }
 },
 "nbformat": 4,
 "nbformat_minor": 5
}
