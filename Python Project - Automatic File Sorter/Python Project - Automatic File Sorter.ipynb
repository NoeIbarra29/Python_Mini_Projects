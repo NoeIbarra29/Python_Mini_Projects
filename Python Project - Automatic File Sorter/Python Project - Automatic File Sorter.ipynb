{
 "cells": [
  {
   "cell_type": "markdown",
   "id": "c05c20d6-3b70-479e-a072-8cad39277a02",
   "metadata": {},
   "source": [
    "Automatic File Sorter"
   ]
  },
  {
   "cell_type": "code",
   "execution_count": 41,
   "id": "4850189d-5e8d-4db5-bd34-80a1c673d7c0",
   "metadata": {},
   "outputs": [],
   "source": [
    "import os, shutil"
   ]
  },
  {
   "cell_type": "code",
   "execution_count": 43,
   "id": "9eb5a0b8-a737-4009-86f8-ec5a337426e2",
   "metadata": {},
   "outputs": [],
   "source": [
    "path = r\"C:/Users/Noe/Downloads/Bajas ICBC//\""
   ]
  },
  {
   "cell_type": "code",
   "execution_count": 45,
   "id": "ab2739d7-15ca-4d73-9555-1ca2d440a4ae",
   "metadata": {},
   "outputs": [],
   "source": [
    "file_name = os.listdir(path)"
   ]
  },
  {
   "cell_type": "code",
   "execution_count": 47,
   "id": "f95e3829-2b0c-4718-974d-c65a32543d4b",
   "metadata": {},
   "outputs": [],
   "source": [
    "folder_names = ['pdf files', 'jpg files', 'png files'] \n",
    "\n",
    "for loop in range(0,3):\n",
    "    if not os.path.exists(path + folder_names[loop]):\n",
    "        #print (path + folder_names[loop])\n",
    "        os.makedirs(path + folder_names[loop])\n",
    "\n",
    "for file in file_name:\n",
    "    if '.pdf' in file and not os.path.exists(path + 'pdf files/' + file):\n",
    "        shutil.move(path + file, path + 'pdf files/' + file)\n",
    "    elif '.jpg' in file and not os.path.exists(path + 'jpg files/' + file):\n",
    "        shutil.move(path + file, path + 'jpg files/' + file)\n",
    "    elif '.png' in file and not os.path.exists(path + 'png files/' + file):\n",
    "        shutil.move(path + file, path + 'png files/' + file)"
   ]
  }
 ],
 "metadata": {
  "kernelspec": {
   "display_name": "Python [conda env:base] *",
   "language": "python",
   "name": "conda-base-py"
  },
  "language_info": {
   "codemirror_mode": {
    "name": "ipython",
    "version": 3
   },
   "file_extension": ".py",
   "mimetype": "text/x-python",
   "name": "python",
   "nbconvert_exporter": "python",
   "pygments_lexer": "ipython3",
   "version": "3.12.7"
  }
 },
 "nbformat": 4,
 "nbformat_minor": 5
}
